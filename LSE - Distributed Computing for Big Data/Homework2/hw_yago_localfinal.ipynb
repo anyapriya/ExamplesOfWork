{
 "cells": [
  {
   "cell_type": "markdown",
   "metadata": {},
   "source": [
    "# ST446 Distributed Computing for Big Data\n",
    "## Homework PART 1\n",
    "### Milan Vojnovic, Christine Yuen, Simon Schoeller LT 2019\n",
    "---\n",
    "\n",
    "\n",
    "## P1: Querying the YAGO semantic knowledge base\n",
    "\n",
    "YAGO is a semantic knowledge base, derived from Wikipedia, WordNet and GeoNames. YAGO contains knowledge about more than 10 million entities (like persons, organizations and cities) and contains more than 120 million facts about these entities. You may find more about YAGO [here](https://www.mpi-inf.mpg.de/departments/databases-and-information-systems/research/yago-naga/yago/#c10444).\n",
    "\n",
    "*You may use GCP or your own computer. Please document your steps. We highly recommend using GCP, as the data sets used are about 20 GB in total.*\n",
    "\n",
    "In this homework assignment, you are asked to use parts of the YAGO dataset to demonstrate your knowledge about Spark graphframes and motif queries. In particular, you are asked to **_use motif queries_** to find out answers to the following queries stated in English:\n",
    "\n",
    "**A (max points 0)**. _Which city was Albert Einstein born in?_ \n",
    "\n",
    "**B (max points 5)**. _Politicians who are also scientists_ (sorted alphabetically by name of person)\n",
    "\n",
    "**C (max points 5)**. _Companies whose founders were born in London_ (sorted alphabetically by name of founder)\n",
    "\n",
    "**D (max points 5)**. _Writers who have won a Nobel Prize (in any discipline)_ (sorted alphabetically by name of person)\n",
    "\n",
    "**E (max points 5)**. _Nobel prize winners who were born in the same city as their spouses_ (sorted alphabetically by name of person)\n",
    "\n",
    "**F (max points 5)**. _Politicians that are affiliated with a right-wing party_ (sorted alphabetically by name of person)\n",
    "\n",
    "Please always show the first 20 entries of the resulting DataFrame and the total count of relevant entries."
   ]
  },
  {
   "cell_type": "code",
   "execution_count": 1,
   "metadata": {},
   "outputs": [],
   "source": [
    "import os\n",
    "os.environ['PYSPARK_SUBMIT_ARGS'] = '--packages graphframes:graphframes:0.4.0-spark2.0-s_2.11'"
   ]
  },
  {
   "cell_type": "code",
   "execution_count": 2,
   "metadata": {},
   "outputs": [],
   "source": [
    "from pyspark.sql import SQLContext\n",
    "sqlContext = SQLContext(sc)\n",
    "\n",
    "import graphframes\n",
    "from graphframes import *\n",
    "import matplotlib.pyplot as plt\n",
    "%matplotlib inline\n",
    "\n",
    "from pyspark.sql.types import *\n",
    "from pyspark.sql.functions import col, lit, when\n",
    "from pyspark.sql import Row\n",
    "\n",
    "from datetime import datetime\n",
    "\n",
    "import re\n",
    "import numpy as np\n"
   ]
  },
  {
   "cell_type": "markdown",
   "metadata": {},
   "source": [
    "## 0.1 Get YAGO data\n",
    "\n",
    "You will need to download the following datasets that are part of YAGO (see [here](https://www.mpi-inf.mpg.de/departments/databases-and-information-systems/research/yago-naga/yago/downloads/) for more information):\n",
    "\n",
    "* A set of relationships between instances (for example, specifying that Emomali Rahmon is the leader of the Military of Tajikistan). Link: http://resources.mpi-inf.mpg.de/yago-naga/yago3.1/yagoFacts.tsv.7z\n",
    "\n",
    "* A set of subclass relationships (for example, specifying that *A1086* is *a road in England*, or that *Salmonella Dub* is *a Reggae music group* and also a *New Zealand dub musical group*). Link: http://resources.mpi-inf.mpg.de/yago-naga/yago3.1/yagoTransitiveType.tsv.7z\n",
    "\n",
    "Please use `wget` to download the data to your compute engine (the files are big!).\n",
    "\n",
    "Next, you will need extract `tsv` files from the `7z` archives that you have downloaded.\n",
    "Use the following commands to install `p7zip` on your compute engine and extract the files.\n",
    "```\n",
    "sudo apt-get install p7zip-full\n",
    "7z x yagoTransitiveType.tsv.7z \n",
    "7z x yagoFacts.tsv.7z \n",
    "```\n",
    "Please note that this can take a while, in particular as `yagoTransitiveType.tsv` is **18GB** large.\n",
    "\n",
    "Put the files (`yagoTransitiveType.tsv` and `yagoFacts.tsv`) into the hadoop file system. \n",
    "Also, have a look at their first few lines to understand what kind of data they contain."
   ]
  },
  {
   "cell_type": "markdown",
   "metadata": {},
   "source": [
    "## 0.2 Read the data into a Spark DataFrame\n",
    "\n",
    "Please load the data from `yagoFacts.tsv` into a DataFrame called `df` and `yagoTransitiveType.tsv` into a DataFrame called `df_subclasses`.\n",
    "Have a look at the beginning of the files to understand the schema.\n",
    "Once imported, both DataFrames should have columns labelled as `id`, `subject`, `predicate`, `object` and `value`.\n",
    "In the case of `yagoTransitiveType.tsv`, some of the predicates can be understood as *\"is a sublcass of\"* or *\"is member of the class\"*, and the objects can be understood as classes."
   ]
  },
  {
   "cell_type": "code",
   "execution_count": 3,
   "metadata": {},
   "outputs": [],
   "source": [
    "df = spark.read.option(\"sep\", \"\\t\").csv(\"hdfs://anyacluster02apr2019-m/user/Anya/yagoFacts.tsv\")\n",
    "df_subclasses = spark.read.option(\"sep\", \"\\t\").csv(\"hdfs://anyacluster02apr2019-m/user/Anya/yagoTransitiveType.tsv\")\n",
    "\n",
    "df = df.selectExpr(\"_c0 as id\", \"_c1 as subject\", \"_c2 as predicate\", \"_c3 as object\", \"_c4 as value\")\n",
    "df_subclasses = df_subclasses.selectExpr(\"_c0 as id\", \"_c1 as subject\", \"_c2 as predicate\", \"_c3 as object\", \"_c4 as value\")"
   ]
  },
  {
   "cell_type": "markdown",
   "metadata": {},
   "source": [
    "## 0.3 Understand the database schema\n",
    "\n",
    "Let's look at the schema:"
   ]
  },
  {
   "cell_type": "code",
   "execution_count": 4,
   "metadata": {},
   "outputs": [
    {
     "name": "stdout",
     "output_type": "stream",
     "text": [
      "root\n",
      " |-- id: string (nullable = true)\n",
      " |-- subject: string (nullable = true)\n",
      " |-- predicate: string (nullable = true)\n",
      " |-- object: string (nullable = true)\n",
      " |-- value: string (nullable = true)\n",
      "\n",
      "root\n",
      " |-- id: string (nullable = true)\n",
      " |-- subject: string (nullable = true)\n",
      " |-- predicate: string (nullable = true)\n",
      " |-- object: string (nullable = true)\n",
      " |-- value: string (nullable = true)\n",
      "\n"
     ]
    }
   ],
   "source": [
    "df.printSchema()\n",
    "df_subclasses.printSchema()"
   ]
  },
  {
   "cell_type": "markdown",
   "metadata": {},
   "source": [
    "The useful information is in columns \"subject\", \"predicate\" and \"object\". \"predicate\" defines the relation between entities \"subject\" and \"object\". For example, for \"Albert Einstein was born in Ulm\", \"Albert Einstein\" is the subject, \"was born in\" is the predicate and \"Ulm\" is the object."
   ]
  },
  {
   "cell_type": "markdown",
   "metadata": {},
   "source": [
    "## 0.4 Simple query example\n",
    "\n",
    "To get information about where Albert Einstein was born, we load data into Spark using the following query:"
   ]
  },
  {
   "cell_type": "code",
   "execution_count": 35,
   "metadata": {},
   "outputs": [
    {
     "name": "stdout",
     "output_type": "stream",
     "text": [
      "+--------------------+--------------------+-----------+---------------+-----+\n",
      "|                  id|             subject|  predicate|         object|value|\n",
      "+--------------------+--------------------+-----------+---------------+-----+\n",
      "|<id_thPX9b1zg!_7f...|<William_Jones_(W...|<wasBornIn>|<Penrhiwceiber>| null|\n",
      "+--------------------+--------------------+-----------+---------------+-----+\n",
      "only showing top 1 row\n",
      "\n"
     ]
    }
   ],
   "source": [
    "born_city_df = df.where(\"predicate == '<wasBornIn>'\")\n",
    "born_city_df.show(1)"
   ]
  },
  {
   "cell_type": "code",
   "execution_count": 36,
   "metadata": {},
   "outputs": [
    {
     "name": "stdout",
     "output_type": "stream",
     "text": [
      "+--------------------+-----------------+-----------+------+-----+\n",
      "|                  id|          subject|  predicate|object|value|\n",
      "+--------------------+-----------------+-----------+------+-----+\n",
      "|<id_sbCVliqDT2_7f...|<Albert_Einstein>|<wasBornIn>| <Ulm>| null|\n",
      "+--------------------+-----------------+-----------+------+-----+\n",
      "\n"
     ]
    }
   ],
   "source": [
    "born_city_df.where(\"subject = '<Albert_Einstein>'\").show()"
   ]
  },
  {
   "cell_type": "markdown",
   "metadata": {},
   "source": [
    "You may wonder how one would know whether to use the predicate '&lt;wasBornIn&gt;' or '&lt;was_born_in&gt;' and subject '&lt;Albert_Einstein&gt;' or '&lt;AlbertEinstein&gt;'. For YAGO subjects (and objects), the naming is aligned with Wikipedia. For example, Albert Einstein's wiki is: https://en.wikipedia.org/wiki/Albert_Einstein and you can see it is 'Albert_Einstein'. \n",
    "\n",
    "For predicates, you can look at the \"property\" list from the [yago web interface](https://gate.d5.mpi-inf.mpg.de/webyagospotlx/WebInterface?L01=%3Fx&L0R=%3CwasBornIn%3E&L02=%3Fc&L0T=&L03=&L0L=&L04=&L05=&L11=&L1R=&L12=&L1T=&L13=&L1L=&L14=&L15=&L21=&L2R=&L22=&L2T=&L23=&L2L=&L24=&L25=&L31=&L3R=&L32=&L3T=&L33=&L3L=&L34=&L35=&L41=&L4R=&L42=&L4T=&L43=&L4L=&L44=&L45=). \n",
    "Try different queries with this web interface query to understand more how to query YAGO."
   ]
  },
  {
   "cell_type": "markdown",
   "metadata": {},
   "source": [
    "## 0.5 Simple motif example (Question A)\n",
    "\n",
    "In this part of the homework, you are required to use **motif** to find out answer to the 4 questions. Please complete the following example to find out: \"Which city was Albert Einstein born in?\" using motif queries instead of  SQL queries on the first dataframe (`df`):"
   ]
  },
  {
   "cell_type": "markdown",
   "metadata": {},
   "source": [
    "## 0.6 Some useful tips\n",
    "\n",
    "### Get a subset of YAGO database\n",
    "YAGO database is large, so we don't try to load the entire database into a dataframe and then query it. If you do this, you will find that you won't even be able to execute `df.take(1)`, as it would take up too much of space (at least on a laptop). Instead, you use Spark SQL commands or `df.where` to get a suitable fraction of the data.\n",
    "\n",
    "### Try the queries in the YAGO web interface first\n",
    "It is sometimes tricky to get the right \"subject\", \"predicate\" and \"object\". It is easier if you start from [yago web interface](https://gate.d5.mpi-inf.mpg.de/webyagospotlx/WebInterface?L01=%3Fx&L0R=%3CwasBornIn%3E&L02=%3Fc&L0T=&L03=&L0L=&L04=&L05=&L11=&L1R=&L12=&L1T=&L13=&L1L=&L14=&L15=&L21=&L2R=&L22=&L2T=&L23=&L2L=&L24=&L25=&L31=&L3R=&L32=&L3T=&L33=&L3L=&L34=&L35=&L41=&L4R=&L42=&L4T=&L43=&L4L=&L44=&L45=) rather than directly querying in Pyspark. Once your query works, you can convert your query to Pyspark code. Note that sometimes the web version of object/subject code may be different from what you need to type here. For example, company code is &lt;wordnet_company_108058098&gt; when you do the query here but when you do it via the web interface it is &lt;wordnet company 108058098&gt;. \n",
    "\n",
    "### Be patient and don't do this exercise in the last minute\n",
    "Some trial and error is needed to get the query right and it may take some time get the result for a query. For these reasons, we advise you not to wait to work out this exercise just before the submission deadline. \n",
    "\n",
    "### Make sure to get the initialization actions right\n",
    "For this exercise, you will be using GraphFrames."
   ]
  },
  {
   "cell_type": "markdown",
   "metadata": {},
   "source": [
    "## 1. Politicians who are also scientists (Question B)\n",
    "Find all politicians who are also scientists. Output top 20 of them. How many people are in the dataset who are both scientists and politicians?\n",
    "Please follow these steps:\n",
    "* Operate on the subsets of `df_subclasses` where the objects are `'<wordnet_scientist_110560637>` (scientists) and `'<wordnet_politician_110450303>'` (politicians), and where the predicates are `rdf:type`.\n",
    "* Use graphframes and the right parts of `df_subclasses` to construct a graph whose (directed) edges point from subjects to objects. Hence, its source vertices are subjects and it destination vertices are objects. It may be convenient to use intermediate DataFrames and join all the required dataframes of edges and vertices.\n",
    "* The subjects will be people and the objects will be classes (e.g., scientists, politicians).\n",
    "* Use a motif query to find all instances that fulfil the criteria specified in the question.\n",
    "* It is a good idea to define a function that takes a DataFrame and outputs a set of data frames for vertices and edges.\n",
    "\n",
    "Please sort the output alphabetically by the person column."
   ]
  },
  {
   "cell_type": "code",
   "execution_count": 69,
   "metadata": {},
   "outputs": [],
   "source": [
    "Scientist_Polit = df_subclasses.where(\"predicate == 'rdf:type' and (object == '<wordnet_scientist_110560637>' or object == '<wordnet_politician_110450303>')\")"
   ]
  },
  {
   "cell_type": "code",
   "execution_count": 5,
   "metadata": {},
   "outputs": [
    {
     "name": "stdout",
     "output_type": "stream",
     "text": [
      "+--------------------+--------------------+---------+--------------------+-----+\n",
      "|                  id|             subject|predicate|              object|value|\n",
      "+--------------------+--------------------+---------+--------------------+-----+\n",
      "|<id_wGHfubCwBs_KC...|<Jean-Baptiste-Jo...| rdf:type|<wordnet_politici...| null|\n",
      "|<id_EQgbQobwPR_KC...|       <Reg_Freeson>| rdf:type|<wordnet_politici...| null|\n",
      "|<id_AZU1dcMWPB_KC...|       <Akbar_Ahmad>| rdf:type|<wordnet_politici...| null|\n",
      "|<id_OqLYLwYtOx_KC...|<it/Luigi_Di_Paol...| rdf:type|<wordnet_politici...| null|\n",
      "|<id_X76ScLZ?xM_KC...|         <Larry_Wos>| rdf:type|<wordnet_scientis...| null|\n",
      "+--------------------+--------------------+---------+--------------------+-----+\n",
      "only showing top 5 rows\n",
      "\n"
     ]
    }
   ],
   "source": [
    "Scientist_Polit.show(5)"
   ]
  },
  {
   "cell_type": "code",
   "execution_count": 70,
   "metadata": {},
   "outputs": [],
   "source": [
    "Scientist_Polit.createOrReplaceTempView(\"Scientist_Polit\")\n",
    "People = spark.sql(\"select distinct sp.subject from Scientist_Polit sp\")\n",
    "People = People.withColumn('type', lit('subject'))"
   ]
  },
  {
   "cell_type": "code",
   "execution_count": 9,
   "metadata": {},
   "outputs": [
    {
     "name": "stdout",
     "output_type": "stream",
     "text": [
      "+--------------------+-------+\n",
      "|             subject|   type|\n",
      "+--------------------+-------+\n",
      "|    <Vladimír_Mařík>|subject|\n",
      "|        <Ivan_Bauer>|subject|\n",
      "|<fr/Jacques-Antoi...|subject|\n",
      "+--------------------+-------+\n",
      "only showing top 3 rows\n",
      "\n"
     ]
    }
   ],
   "source": [
    "People.show(3)"
   ]
  },
  {
   "cell_type": "code",
   "execution_count": 71,
   "metadata": {},
   "outputs": [],
   "source": [
    "Jobs = spark.sql(\"select distinct sp.object from Scientist_Polit sp\")\n",
    "Jobs = Jobs.withColumn('type', lit('object'))"
   ]
  },
  {
   "cell_type": "code",
   "execution_count": 10,
   "metadata": {},
   "outputs": [
    {
     "name": "stdout",
     "output_type": "stream",
     "text": [
      "+--------------------+------+\n",
      "|              object|  type|\n",
      "+--------------------+------+\n",
      "|<wordnet_politici...|object|\n",
      "|<wordnet_scientis...|object|\n",
      "+--------------------+------+\n",
      "\n"
     ]
    }
   ],
   "source": [
    "Jobs.show()"
   ]
  },
  {
   "cell_type": "code",
   "execution_count": 73,
   "metadata": {},
   "outputs": [],
   "source": [
    "Vertex = People.union(Jobs).withColumnRenamed(\"subject\", \"id\")"
   ]
  },
  {
   "cell_type": "code",
   "execution_count": 11,
   "metadata": {},
   "outputs": [
    {
     "name": "stdout",
     "output_type": "stream",
     "text": [
      "+--------------------+-------+\n",
      "|             subject|   type|\n",
      "+--------------------+-------+\n",
      "|    <Vladimír_Mařík>|subject|\n",
      "|        <Ivan_Bauer>|subject|\n",
      "|<fr/Jacques-Antoi...|subject|\n",
      "+--------------------+-------+\n",
      "only showing top 3 rows\n",
      "\n"
     ]
    }
   ],
   "source": [
    "Vertex.show(3)"
   ]
  },
  {
   "cell_type": "code",
   "execution_count": 74,
   "metadata": {},
   "outputs": [],
   "source": [
    "Edges = spark.sql(\"select sp.subject, sp.object from Scientist_Polit sp\").withColumnRenamed(\"subject\", \"src\").withColumnRenamed(\"object\", \"dst\")"
   ]
  },
  {
   "cell_type": "code",
   "execution_count": 13,
   "metadata": {},
   "outputs": [
    {
     "name": "stdout",
     "output_type": "stream",
     "text": [
      "+--------------------+--------------------+\n",
      "|                 src|                 dst|\n",
      "+--------------------+--------------------+\n",
      "|<Jean-Baptiste-Jo...|<wordnet_politici...|\n",
      "|       <Reg_Freeson>|<wordnet_politici...|\n",
      "|       <Akbar_Ahmad>|<wordnet_politici...|\n",
      "+--------------------+--------------------+\n",
      "only showing top 3 rows\n",
      "\n"
     ]
    }
   ],
   "source": [
    "Edges.show(3)"
   ]
  },
  {
   "cell_type": "code",
   "execution_count": 75,
   "metadata": {},
   "outputs": [],
   "source": [
    "SciPoliGrFr = GraphFrame(Vertex, Edges)"
   ]
  },
  {
   "cell_type": "code",
   "execution_count": 76,
   "metadata": {},
   "outputs": [],
   "source": [
    "motifs = SciPoliGrFr.find(\"(a)-[]->(b); (a)-[]->(c)\")\n",
    "result = motifs.filter(\"b != c\").select(\"a\").distinct()"
   ]
  },
  {
   "cell_type": "code",
   "execution_count": 77,
   "metadata": {},
   "outputs": [
    {
     "name": "stdout",
     "output_type": "stream",
     "text": [
      "+------------------------------------+\n",
      "|a                                   |\n",
      "+------------------------------------+\n",
      "|[<A._C._Cuza>, subject]             |\n",
      "|[<A._P._J._Abdul_Kalam>, subject]   |\n",
      "|[<Aad_Kosto>, subject]              |\n",
      "|[<Aad_Nuis>, subject]               |\n",
      "|[<Aaron_Aaronsohn>, subject]        |\n",
      "|[<Aaron_Farrugia>, subject]         |\n",
      "|[<Ab_Klink>, subject]               |\n",
      "|[<Abba_P._Lerner>, subject]         |\n",
      "|[<Abbas_Ahmad_Akhoundi>, subject]   |\n",
      "|[<Abbie_Hoffman>, subject]          |\n",
      "|[<Abbott_Lawrence_Lowell>, subject] |\n",
      "|[<Abdallah_Salem_el-Badri>, subject]|\n",
      "|[<Abdelbaki_Hermassi>, subject]     |\n",
      "|[<Abdellatif_Abid>, subject]        |\n",
      "|[<Abdelouahed_Souhail>, subject]    |\n",
      "|[<Abdelwahed_Radi>, subject]        |\n",
      "|[<Abdesslam_Yassine>, subject]      |\n",
      "|[<Abdi_Farah_Shirdon>, subject]     |\n",
      "|[<Abdirahman_Duale_Beyle>, subject] |\n",
      "|[<Abdiweli_Mohamed_Ali>, subject]   |\n",
      "+------------------------------------+\n",
      "only showing top 20 rows\n",
      "\n"
     ]
    }
   ],
   "source": [
    "result.sort(\"a\", ascending = True).show(20, False)"
   ]
  },
  {
   "cell_type": "code",
   "execution_count": 20,
   "metadata": {},
   "outputs": [
    {
     "name": "stdout",
     "output_type": "stream",
     "text": [
      "7182\n"
     ]
    }
   ],
   "source": [
    "print(result.count())"
   ]
  },
  {
   "cell_type": "markdown",
   "metadata": {},
   "source": [
    "The total number of politicians that are also scientists is: 7182.  The top 20 when sorted alphabetically are shown above.  "
   ]
  },
  {
   "cell_type": "markdown",
   "metadata": {},
   "source": [
    "## 2. Companies whose founders were born in London (Question C)\n",
    "For companies, use `'<wordnet_company_108058098>'`. \n",
    "For *\"being founder\"*, use `<created>`.\n",
    "\n",
    "By now, you will understand which DataFrame to use for what. \n",
    "\n",
    "Set up a graph and use a motif query to find companies whose founders were born in London.\n",
    "Please take some time to figure out how a suitable configuration of nodes and edges should look like.  How many such companies are there in our dataset?\n",
    "\n",
    "Please sort the output alphabetically by the founder column."
   ]
  },
  {
   "cell_type": "code",
   "execution_count": 63,
   "metadata": {},
   "outputs": [],
   "source": [
    "Companies_edge = df_subclasses.where(\"predicate == 'rdf:type' and object == '<wordnet_company_108058098>'\").select(\"subject\", \"predicate\", \"object\")\n",
    "Companies_vert = Companies_edge.select(\"subject\").distinct().withColumn('type', lit('creation')).withColumnRenamed(\"subject\", \"id\")\n",
    "Companies_vert2 = Companies_edge.select(\"object\").distinct().withColumn('type', lit('companydescription')).withColumnRenamed(\"object\", \"id\")"
   ]
  },
  {
   "cell_type": "code",
   "execution_count": 64,
   "metadata": {},
   "outputs": [
    {
     "name": "stdout",
     "output_type": "stream",
     "text": [
      "134474\n",
      "134474\n",
      "1\n"
     ]
    }
   ],
   "source": [
    "print(Companies_edge.count())\n",
    "print(Companies_vert.count())\n",
    "print(Companies_vert2.count())"
   ]
  },
  {
   "cell_type": "code",
   "execution_count": 65,
   "metadata": {},
   "outputs": [],
   "source": [
    "#Get founders of those companies\n",
    "Founders_edge = df.where(\"predicate == '<created>'\").select(\"subject\", \"predicate\", \"object\")\n",
    "Founders_vert = Founders_edge.select(\"subject\").distinct().withColumn('type', lit('person')).withColumnRenamed(\"subject\", \"id\")\n",
    "Creation_vert = Founders_edge.select(\"object\").distinct().withColumn('type', lit('creation')).withColumnRenamed(\"object\", \"id\")"
   ]
  },
  {
   "cell_type": "code",
   "execution_count": 66,
   "metadata": {},
   "outputs": [
    {
     "name": "stdout",
     "output_type": "stream",
     "text": [
      "485392\n",
      "113433\n",
      "360647\n"
     ]
    }
   ],
   "source": [
    "print(Founders_edge.count())\n",
    "print(Founders_vert.count())\n",
    "print(Creation_vert.count())"
   ]
  },
  {
   "cell_type": "code",
   "execution_count": 67,
   "metadata": {},
   "outputs": [],
   "source": [
    "#Get birth locations of founders\n",
    "Births_edge = df.where(\"predicate == '<wasBornIn>'\").select(\"subject\", \"predicate\", \"object\")\n",
    "Births_vert = Births_edge.select(\"subject\").distinct().withColumn('type', lit('person')).withColumnRenamed(\"subject\", \"id\")\n",
    "Locs_vert = Births_edge.select(\"object\").distinct().withColumn('type', lit('place')).withColumnRenamed(\"object\", \"id\")"
   ]
  },
  {
   "cell_type": "code",
   "execution_count": 68,
   "metadata": {},
   "outputs": [
    {
     "name": "stdout",
     "output_type": "stream",
     "text": [
      "848846\n",
      "848846\n",
      "91153\n"
     ]
    }
   ],
   "source": [
    "print(Births_edge.count())\n",
    "print(Births_vert.count())\n",
    "print(Locs_vert.count())"
   ]
  },
  {
   "cell_type": "code",
   "execution_count": 8,
   "metadata": {},
   "outputs": [],
   "source": [
    "#Make dataframe of vertices\n",
    "Vertices = Companies_vert.union(Companies_vert2).union(Founders_vert).union(Creation_vert).union(Births_vert).union(Locs_vert).distinct()"
   ]
  },
  {
   "cell_type": "code",
   "execution_count": 9,
   "metadata": {},
   "outputs": [],
   "source": [
    "#Make dataframe of edges: relationships\n",
    "Edges = Companies_edge.union(Founders_edge).union(Births_edge).withColumnRenamed(\"predicate\", \"relationship\").withColumnRenamed(\"subject\", \"src\").withColumnRenamed(\"object\", \"dst\").distinct()"
   ]
  },
  {
   "cell_type": "code",
   "execution_count": 10,
   "metadata": {},
   "outputs": [],
   "source": [
    "LondonFoundersGrFr = GraphFrame(Vertices, Edges)"
   ]
  },
  {
   "cell_type": "code",
   "execution_count": 11,
   "metadata": {},
   "outputs": [],
   "source": [
    "motifs = LondonFoundersGrFr.find(\"(a)-[e1]->(b); (a)-[e2]->(c); (c)-[e3]->(d)\")\n",
    "result = motifs.filter(\"b.id == '<London>' and c.type == 'creation' and d.id == '<wordnet_company_108058098>' \").select(\"a\", \"c\").distinct() "
   ]
  },
  {
   "cell_type": "markdown",
   "metadata": {},
   "source": [
    "There are 61 companies created by people who were born in London, but only 53 distinct founders.  The top 20 companies and their founders sorted alphabetically by founder's name are shown below.  "
   ]
  },
  {
   "cell_type": "code",
   "execution_count": 12,
   "metadata": {},
   "outputs": [
    {
     "name": "stdout",
     "output_type": "stream",
     "text": [
      "+-----------------------------------------+-------------------------------------------------+\n",
      "|a                                        |c                                                |\n",
      "+-----------------------------------------+-------------------------------------------------+\n",
      "|[<Adam_Hamdy>, person]                   |[<Dare_Comics>, creation]                        |\n",
      "|[<Alexander_Asseily>, person]            |[<Jawbone_(company)>, creation]                  |\n",
      "|[<Antony_Jay>, person]                   |[<Video_Arts>, creation]                         |\n",
      "|[<Aubrey_de_Grey>, person]               |[<SENS_Research_Foundation>, creation]           |\n",
      "|[<Ben_Horowitz>, person]                 |[<Andreessen_Horowitz>, creation]                |\n",
      "|[<Bernard_MacMahon_(filmmaker)>, person] |[<LO-MAX_Records>, creation]                     |\n",
      "|[<Brian_Maxwell>, person]                |[<PowerBar>, creation]                           |\n",
      "|[<Bruno_Heller>, person]                 |[<Primrose_Hill_Productions>, creation]          |\n",
      "|[<Charlie_Chaplin>, person]              |[<United_Artists>, creation]                     |\n",
      "|[<Dan_Joyce>, person]                    |[<Kurrupt_Recordings_HARD>, creation]            |\n",
      "|[<Daniel_James_(game_developer)>, person]|[<Three_Rings_Design>, creation]                 |\n",
      "|[<David_Harel>, person]                  |[<I-Logix>, creation]                            |\n",
      "|[<David_Heyman>, person]                 |[<Heyday_Films>, creation]                       |\n",
      "|[<David_Kimche>, person]                 |[<Israel_Council_on_Foreign_Relations>, creation]|\n",
      "|[<Demis_Hassabis>, person]               |[<DeepMind>, creation]                           |\n",
      "|[<Ellen_Browning_Scripps>, person]       |[<Luce,_Forward,_Hamilton_&_Scripps>, creation]  |\n",
      "|[<Ellen_Browning_Scripps>, person]       |[<Scripps_Health>, creation]                     |\n",
      "|[<Elliot_James>, person]                 |[<Blossöm_Records>, creation]                    |\n",
      "|[<Emma_Thomas>, person]                  |[<Syncopy_Inc.>, creation]                       |\n",
      "|[<Ernest_Webb>, person]                  |[<Rezolution_Pictures>, creation]                |\n",
      "+-----------------------------------------+-------------------------------------------------+\n",
      "only showing top 20 rows\n",
      "\n"
     ]
    }
   ],
   "source": [
    "result.sort(\"a\", ascending = True).show(20, False)"
   ]
  },
  {
   "cell_type": "code",
   "execution_count": 13,
   "metadata": {},
   "outputs": [
    {
     "name": "stdout",
     "output_type": "stream",
     "text": [
      "61\n"
     ]
    }
   ],
   "source": [
    "print(result.count())"
   ]
  },
  {
   "cell_type": "code",
   "execution_count": 38,
   "metadata": {},
   "outputs": [
    {
     "name": "stdout",
     "output_type": "stream",
     "text": [
      "53\n"
     ]
    }
   ],
   "source": [
    "result = motifs.filter(\"b.id == '<London>' and d.id == '<wordnet_company_108058098>' \").select(\"a\").distinct() \n",
    "print(result.count())"
   ]
  },
  {
   "cell_type": "markdown",
   "metadata": {},
   "source": [
    "## 3. Writers who have won a Nobel Prize in any discipline, including economics (Question D)\n",
    "Tags for nobel prizes look like these: `'<Nobel_Prize_in_Chemistry>`, `<Nobel_Prize_in_Physics>'`, `<Nobel_Prize>` or `<Nobel_Prize>` etc.\n",
    "We are also counting this one: `'<Nobel_Memorial_Prize_in_Economic_Sciences>'`.\n",
    "\n",
    "The tag for writers is `'<wordnet_writer_110794014>'`.\n",
    "\n",
    "You will need to use `'<hasWonPrize>'` as a predicate.\n",
    "\n",
    "Please sort the output alphabetically by the person column."
   ]
  },
  {
   "cell_type": "code",
   "execution_count": 26,
   "metadata": {},
   "outputs": [],
   "source": [
    "#Writers\n",
    "writers_edge = df_subclasses.where(\"predicate == 'rdf:type' and object == '<wordnet_writer_110794014>'\").select(\"subject\", \"predicate\", \"object\")\n",
    "writers_vert1 = writers_edge.select(\"subject\").distinct().withColumnRenamed(\"subject\", \"id\").withColumn('type', lit('name'))\n",
    "writers_vert2 = writers_edge.select(\"object\").distinct().withColumnRenamed(\"object\", \"id\").withColumn('type', lit('occupation'))"
   ]
  },
  {
   "cell_type": "code",
   "execution_count": 27,
   "metadata": {},
   "outputs": [
    {
     "name": "stdout",
     "output_type": "stream",
     "text": [
      "256772\n",
      "256772\n",
      "1\n"
     ]
    }
   ],
   "source": [
    "print(writers_edge.count())\n",
    "print(writers_vert1.count())\n",
    "print(writers_vert2.count())"
   ]
  },
  {
   "cell_type": "markdown",
   "metadata": {},
   "source": [
    "There are 6 different Nobel prize or Nobel memorial prize objects, which match the true categories.  "
   ]
  },
  {
   "cell_type": "code",
   "execution_count": 28,
   "metadata": {},
   "outputs": [
    {
     "name": "stdout",
     "output_type": "stream",
     "text": [
      "+-------------------------------------------+\n",
      "|object                                     |\n",
      "+-------------------------------------------+\n",
      "|<Nobel_Prize_in_Physiology_or_Medicine>    |\n",
      "|<Nobel_Prize_in_Chemistry>                 |\n",
      "|<Nobel_Prize_in_Literature>                |\n",
      "|<Nobel_Prize_in_Physics>                   |\n",
      "|<Nobel_Memorial_Prize_in_Economic_Sciences>|\n",
      "|<Nobel_Prize>                              |\n",
      "+-------------------------------------------+\n",
      "\n"
     ]
    }
   ],
   "source": [
    "#Make sure this includes all types of Nobel prizes\n",
    "NobelPrizes = df.where(\"predicate == '<hasWonPrize>' and (object like '%<Nobel_Prize%' or object like '%<Nobel_Memorial_Prize%')\").select(\"object\").distinct()\n",
    "NobelPrizes.show(10, False)"
   ]
  },
  {
   "cell_type": "code",
   "execution_count": 33,
   "metadata": {},
   "outputs": [],
   "source": [
    "#Prize recipents\n",
    "NobelPrizes_edge = df.where(\"predicate == '<hasWonPrize>' and (object like '%<Nobel_Prize%' or object like '%<Nobel_Memorial_Prize%')\").select(\"subject\", \"predicate\", \"object\")\n",
    "NobelPrizes_vert1 = NobelPrizes_edges.select(\"subject\").distinct().withColumnRenamed(\"subject\", \"id\").withColumn('type', lit('name'))\n",
    "NobelPrizes_vert2 = NobelPrizes_edges.select(\"object\").distinct().withColumnRenamed(\"object\", \"id\").withColumn('type', lit('prize'))"
   ]
  },
  {
   "cell_type": "code",
   "execution_count": 34,
   "metadata": {},
   "outputs": [
    {
     "name": "stdout",
     "output_type": "stream",
     "text": [
      "838\n",
      "826\n",
      "6\n"
     ]
    }
   ],
   "source": [
    "print(NobelPrizes_edge.count())\n",
    "print(NobelPrizes_vert1.count())\n",
    "print(NobelPrizes_vert2.count())"
   ]
  },
  {
   "cell_type": "code",
   "execution_count": 35,
   "metadata": {},
   "outputs": [],
   "source": [
    "#Make dataframe of vertices\n",
    "Vertices = writers_vert1.union(writers_vert2).union(NobelPrizes_vert1).union(NobelPrizes_vert2).distinct()"
   ]
  },
  {
   "cell_type": "code",
   "execution_count": 36,
   "metadata": {},
   "outputs": [],
   "source": [
    "#Make dataframe of edges: relationships\n",
    "Edges = writers_edge.union(NobelPrizes_edge).withColumnRenamed(\"predicate\", \"relationship\").withColumnRenamed(\"subject\", \"src\").withColumnRenamed(\"object\", \"dst\").distinct()"
   ]
  },
  {
   "cell_type": "code",
   "execution_count": 37,
   "metadata": {},
   "outputs": [],
   "source": [
    "NobelWritersGrFr = GraphFrame(Vertices, Edges)"
   ]
  },
  {
   "cell_type": "code",
   "execution_count": 38,
   "metadata": {},
   "outputs": [],
   "source": [
    "motifs = NobelWritersGrFr.find(\"(a)-[]->(b); (a)-[]->(c)\")\n",
    "result = motifs.filter(\"b != c\").select(\"a\").distinct() "
   ]
  },
  {
   "cell_type": "markdown",
   "metadata": {},
   "source": [
    "There are 219 writers who have won a nobel prize or nobel memorial prize.  The top 20 listed alphabetically are shown below.  "
   ]
  },
  {
   "cell_type": "code",
   "execution_count": 39,
   "metadata": {},
   "outputs": [
    {
     "name": "stdout",
     "output_type": "stream",
     "text": [
      "219\n",
      "+--------------------------------------+\n",
      "|a                                     |\n",
      "+--------------------------------------+\n",
      "|[<Adrienne_Clarkson>, name]           |\n",
      "|[<Albert_Camus>, name]                |\n",
      "|[<Albert_Einstein>, name]             |\n",
      "|[<Aleksandr_Solzhenitsyn>, name]      |\n",
      "|[<Alexander_Prokhorov>, name]         |\n",
      "|[<Alexei_Alexeyevich_Abrikosov>, name]|\n",
      "|[<Alexis_Carrel>, name]               |\n",
      "|[<Alfred_Kastler>, name]              |\n",
      "|[<Alice_Munro>, name]                 |\n",
      "|[<Alvin_E._Roth>, name]               |\n",
      "|[<Alvin_Toffler>, name]               |\n",
      "|[<Amartya_Sen>, name]                 |\n",
      "|[<Anatole_France>, name]              |\n",
      "|[<André_Gide>, name]                  |\n",
      "|[<António_Egas_Moniz>, name]          |\n",
      "|[<Arthur_Kornberg>, name]             |\n",
      "|[<Artturi_Ilmari_Virtanen>, name]     |\n",
      "|[<Aziz_Sancar>, name]                 |\n",
      "|[<Bert_Sakmann>, name]                |\n",
      "|[<Bertrand_Russell>, name]            |\n",
      "+--------------------------------------+\n",
      "only showing top 20 rows\n",
      "\n"
     ]
    }
   ],
   "source": [
    "print(result.count())\n",
    "result.sort(\"a\", ascending = True).show(20, False)"
   ]
  },
  {
   "cell_type": "markdown",
   "metadata": {},
   "source": [
    "## 4. Nobel prize winners who were born in the same city as their spouses (Question E)\n",
    "You may find the predicate `'<isMarriedTo>'` useful to create a Dataframe of all mariages.\n",
    "Please also show the cities in which the Nobel laureates and their spouses were born.\n",
    "\n",
    "Please sort the output alphabetically by the person (prize winner) column."
   ]
  },
  {
   "cell_type": "code",
   "execution_count": 43,
   "metadata": {},
   "outputs": [],
   "source": [
    "#Prize recipents\n",
    "NobelPrizes_edge = df.where(\"predicate == '<hasWonPrize>' and (object like '%<Nobel_Prize%' or object like '%<Nobel_Memorial_Prize%')\").select(\"subject\", \"predicate\", \"object\")\n",
    "NobelPrizes_vert1 = NobelPrizes_edge.select(\"subject\").distinct().withColumnRenamed(\"subject\", \"id\").withColumn('type', lit('person'))\n",
    "NobelPrizes_vert2 = NobelPrizes_edge.select(\"object\").distinct().withColumnRenamed(\"object\", \"id\").withColumn('type', lit('prize'))"
   ]
  },
  {
   "cell_type": "code",
   "execution_count": 49,
   "metadata": {},
   "outputs": [],
   "source": [
    "#Marriages\n",
    "Marriages_edge = df.where(\"predicate == '<isMarriedTo>'\").select(\"subject\", \"predicate\", \"object\")\n",
    "Marriages_edge2 = df.where(\"predicate == '<isMarriedTo>'\").select(\"object\", \"predicate\", \"subject\")\n",
    "\n",
    "Marriages_vert1 = Marriages_edge.select(\"subject\").distinct().withColumn('type', lit('person'))\n",
    "Marriages_vert2 = Marriages_edge.select(\"object\").distinct().withColumn('type', lit('person'))"
   ]
  },
  {
   "cell_type": "code",
   "execution_count": 48,
   "metadata": {},
   "outputs": [
    {
     "name": "stdout",
     "output_type": "stream",
     "text": [
      "53039\n",
      "47539\n",
      "47122\n"
     ]
    }
   ],
   "source": [
    "print(Marriages_edge.count())\n",
    "print(Marriages_vert1.count())\n",
    "print(Marriages_vert2.count())"
   ]
  },
  {
   "cell_type": "code",
   "execution_count": 45,
   "metadata": {},
   "outputs": [],
   "source": [
    "#Get birth locations of founders\n",
    "Births_edge = df.where(\"predicate == '<wasBornIn>'\").select(\"subject\", \"predicate\", \"object\")\n",
    "Births_vert = Births_edge.select(\"subject\").distinct().withColumn('type', lit('person')).withColumnRenamed(\"subject\", \"id\")\n",
    "Locs_vert = Births_edge.select(\"object\").distinct().withColumn('type', lit('place')).withColumnRenamed(\"object\", \"id\")"
   ]
  },
  {
   "cell_type": "code",
   "execution_count": 46,
   "metadata": {},
   "outputs": [],
   "source": [
    "#Make dataframe of vertices\n",
    "Vertices = NobelPrizes_vert1.union(NobelPrizes_vert2).union(Marriages_vert1).union(Marriages_vert2).union(Births_vert).union(Locs_vert).distinct()"
   ]
  },
  {
   "cell_type": "code",
   "execution_count": 50,
   "metadata": {},
   "outputs": [],
   "source": [
    "#Make dataframe of edges: relationships\n",
    "Edges = NobelPrizes_edge.union(Marriages_edge).union(Marriages_edge2).union(Births_edge).withColumnRenamed(\"predicate\", \"relationship\").withColumnRenamed(\"subject\", \"src\").withColumnRenamed(\"object\", \"dst\").distinct()"
   ]
  },
  {
   "cell_type": "code",
   "execution_count": 58,
   "metadata": {},
   "outputs": [],
   "source": [
    "NobelMarriagesGF = GraphFrame(Vertices, Edges)\n",
    "motifs = NobelMarriagesGF.find(\"(a)-[]->(b); (a)-[e1]->(c); (a)-[e2]->(d); (c)-[e3]->(d)\")\n",
    "result = motifs.filter(\"b.type == 'prize' and e1.relationship == '<isMarriedTo>' and e2.relationship == '<wasBornIn>' and e2.relationship == e3.relationship\").select(\"a\", \"c\", \"d\").distinct() "
   ]
  },
  {
   "cell_type": "markdown",
   "metadata": {},
   "source": [
    "There are 5 people who have the Nobel prize or Nobel memorial prize and were born in the same city as their spouse.  It should be noted that 4 of them appear to be 2 couples where each person won the Nobel prize or Nobel memorial prize, and it is possible that they were collaborators and won it together.  The couples and birth cities are shown below, where column a represents the prize winner.  "
   ]
  },
  {
   "cell_type": "code",
   "execution_count": 59,
   "metadata": {},
   "outputs": [
    {
     "name": "stdout",
     "output_type": "stream",
     "text": [
      "5\n"
     ]
    }
   ],
   "source": [
    "print(result.count())"
   ]
  },
  {
   "cell_type": "code",
   "execution_count": 60,
   "metadata": {},
   "outputs": [
    {
     "name": "stdout",
     "output_type": "stream",
     "text": [
      "+---------------------------------+---------------------------------+------------------------+\n",
      "|a                                |c                                |d                       |\n",
      "+---------------------------------+---------------------------------+------------------------+\n",
      "|[<Carl_Ferdinand_Cori>, person]  |[<Gerty_Cori>, person]           |[<Prague>, place]       |\n",
      "|[<Frédéric_Joliot-Curie>, person]|[<Irène_Joliot-Curie>, person]   |[<Paris>, place]        |\n",
      "|[<Gerty_Cori>, person]           |[<Carl_Ferdinand_Cori>, person]  |[<Prague>, place]       |\n",
      "|[<Irène_Joliot-Curie>, person]   |[<Frédéric_Joliot-Curie>, person]|[<Paris>, place]        |\n",
      "|[<Robert_Hofstadter>, person]    |[<Douglas_Hofstadter>, person]   |[<New_York_City>, place]|\n",
      "+---------------------------------+---------------------------------+------------------------+\n",
      "\n"
     ]
    }
   ],
   "source": [
    "result.sort(\"a\", ascending = True).show(20, False)"
   ]
  },
  {
   "cell_type": "markdown",
   "metadata": {},
   "source": [
    "## 5. Politicians that are affiliated with a right-wing party (Question F)\n",
    "\n",
    "We are looking for all connections of the form `polician -> party`, where party is a right-wing party and politicians are defined above. If one politician is associated with several right wing parties, you may count them several times.\n",
    "\n",
    "Use `'<isAffiliatedTo>'` to find membership in organisations and `'<wikicat_Right-wing_parties>'` for right-wing parties organisations.\n",
    "\n",
    "There are multiple ways to do this.\n",
    "\n",
    "Please sort the output alphabetically by the person (politician) column."
   ]
  },
  {
   "cell_type": "code",
   "execution_count": 17,
   "metadata": {},
   "outputs": [],
   "source": [
    "#Politicians\n",
    "Polits_edge = df_subclasses.where(\"object == '<wordnet_politician_110450303>'\").select(\"subject\", \"predicate\", \"object\")\n",
    "Polits_vert1 = Polits_edge.select(\"subject\").distinct().withColumnRenamed(\"subject\", \"id\").withColumn('type', lit('name'))\n",
    "Polits_vert2 = Polits_edge.select(\"object\").distinct().withColumnRenamed(\"object\", \"id\").withColumn('type', lit('occupation'))"
   ]
  },
  {
   "cell_type": "code",
   "execution_count": 15,
   "metadata": {},
   "outputs": [],
   "source": [
    "#Affilated organizations\n",
    "AffOrgs_edge = df.where(\"predicate == '<isAffiliatedTo>'\").select(\"subject\", \"predicate\", \"object\")\n",
    "AffOrgs_vert1 = AffOrgs_edge.select(\"subject\").distinct().withColumnRenamed(\"subject\", \"id\").withColumn('type', lit('name'))\n",
    "AffOrgs_vert2 = AffOrgs_edge.select(\"object\").distinct().withColumnRenamed(\"object\", \"id\").withColumn('type', lit('org'))\n"
   ]
  },
  {
   "cell_type": "code",
   "execution_count": 16,
   "metadata": {},
   "outputs": [],
   "source": [
    "#Orgs that are right-wing\n",
    "RWOrgs_edge = df_subclasses.where(\"object == '<wikicat_Right-wing_parties>'\").select(\"subject\", \"predicate\", \"object\")\n",
    "RWOrgs_vert1 = RWOrgs_edge.select(\"subject\").distinct().withColumnRenamed(\"subject\", \"id\").withColumn('type', lit('org'))\n",
    "RWOrgs_vert2 = RWOrgs_edge.select(\"object\").distinct().withColumnRenamed(\"object\", \"id\").withColumn('type', lit('RW'))\n"
   ]
  },
  {
   "cell_type": "code",
   "execution_count": 19,
   "metadata": {},
   "outputs": [],
   "source": [
    "#Make dataframe of vertices\n",
    "Vertices = Polits_vert1.union(Polits_vert2).union(AffOrgs_vert1).union(AffOrgs_vert2).union(RWOrgs_vert1).union(RWOrgs_vert2).distinct()"
   ]
  },
  {
   "cell_type": "code",
   "execution_count": 21,
   "metadata": {},
   "outputs": [],
   "source": [
    "#Make dataframe of edges: relationships\n",
    "Edges = Polits_edge.union(AffOrgs_edge).union(RWOrgs_edge).withColumnRenamed(\"predicate\", \"relationship\").withColumnRenamed(\"subject\", \"src\").withColumnRenamed(\"object\", \"dst\").distinct()"
   ]
  },
  {
   "cell_type": "code",
   "execution_count": 22,
   "metadata": {},
   "outputs": [],
   "source": [
    "RWPolitGrFr = GraphFrame(Vertices, Edges)"
   ]
  },
  {
   "cell_type": "code",
   "execution_count": 40,
   "metadata": {},
   "outputs": [],
   "source": [
    "motifs = RWPolitGrFr.find(\"(a)-[]->(b); (b)-[]->(c); (a)-[]->(d)\").filter(\"d.id == '<wordnet_politician_110450303>'\")\n",
    "result = motifs.select(\"a\").distinct() "
   ]
  },
  {
   "cell_type": "markdown",
   "metadata": {},
   "source": [
    "There are 32736 politicians who are affiliated with right wing organizations.  The top 20 sorted alphabetically are shown below.  "
   ]
  },
  {
   "cell_type": "code",
   "execution_count": 41,
   "metadata": {},
   "outputs": [
    {
     "name": "stdout",
     "output_type": "stream",
     "text": [
      "32736\n"
     ]
    }
   ],
   "source": [
    "print(result.count())"
   ]
  },
  {
   "cell_type": "code",
   "execution_count": 42,
   "metadata": {},
   "outputs": [
    {
     "name": "stdout",
     "output_type": "stream",
     "text": [
      "+---------------------------------------+\n",
      "|a                                      |\n",
      "+---------------------------------------+\n",
      "|[<A.N.M._Ehsanul_Hoque_Milan>, name]   |\n",
      "|[<A._A._Wijethunga>, name]             |\n",
      "|[<A._Anwhar_Raajhaa>, name]            |\n",
      "|[<A._Arunmozhithevan>, name]           |\n",
      "|[<A._B._Colton>, name]                 |\n",
      "|[<A._C._Clemons>, name]                |\n",
      "|[<A._C._Gibbs>, name]                  |\n",
      "|[<A._C._Hamlin>, name]                 |\n",
      "|[<A._Clifford_Jones>, name]            |\n",
      "|[<A._Dean_Jeffs>, name]                |\n",
      "|[<A._Devaraj>, name]                   |\n",
      "|[<A._F._M._Ahsanuddin_Chowdhury>, name]|\n",
      "|[<A._G._Crowe>, name]                  |\n",
      "|[<A._Homer_Byington>, name]            |\n",
      "|[<A._J._M._Muzammil>, name]            |\n",
      "|[<A._J._McNamara>, name]               |\n",
      "|[<A._J._Ranasinghe>, name]             |\n",
      "|[<A._K._A._Firoze_Noon>, name]         |\n",
      "|[<A._K._Patel>, name]                  |\n",
      "|[<A._K._S._Vijayan>, name]             |\n",
      "+---------------------------------------+\n",
      "only showing top 20 rows\n",
      "\n"
     ]
    }
   ],
   "source": [
    "result.sort(\"a\", ascending = True).show(20, False)"
   ]
  }
 ],
 "metadata": {
  "anaconda-cloud": {},
  "kernelspec": {
   "display_name": "PySpark",
   "language": "python",
   "name": "pyspark"
  },
  "language_info": {
   "codemirror_mode": {
    "name": "ipython",
    "version": 3
   },
   "file_extension": ".py",
   "mimetype": "text/x-python",
   "name": "python",
   "nbconvert_exporter": "python",
   "pygments_lexer": "ipython3",
   "version": "3.6.5"
  }
 },
 "nbformat": 4,
 "nbformat_minor": 1
}